{
 "cells": [
  {
   "cell_type": "code",
   "execution_count": 6,
   "id": "2012d371",
   "metadata": {},
   "outputs": [],
   "source": [
    "import requests\n",
    "import pandas as pd\n",
    "\n",
    "# Example API URL: OpenWeather API (Replace with your API URL)\n",
    "API_KEY = 'Please replcae this with your API Key'\n",
    "city = 'London'\n",
    "url = f\"http://api.openweathermap.org/data/2.5/weather?q={city}&appid={API_KEY}\"\n",
    "\n",
    "# Make the API request\n",
    "response = requests.get(url)\n",
    "data = response.json()"
   ]
  },
  {
   "cell_type": "code",
   "execution_count": 7,
   "id": "3bd0e692",
   "metadata": {},
   "outputs": [
    {
     "name": "stdout",
     "output_type": "stream",
     "text": [
      "Dataset saved successfully as weather_data.csv\n"
     ]
    }
   ],
   "source": [
    "\n",
    "# Extract data fields (customize based on the API structure)\n",
    "weather_data = {\n",
    "    'City': data['name'],\n",
    "    'Temperature': data['main']['temp'],\n",
    "    'feels_like': data['main']['feels_like'],\n",
    "    'Weather': data['weather'][0]['description'],\n",
    "    'Humidity': data['main']['humidity'],\n",
    "    'Pressure': data['main']['pressure']\n",
    "}\n",
    "\n",
    "# Convert to a DataFrame\n",
    "df = pd.DataFrame([weather_data])\n",
    "\n",
    "# Save the dataset to a CSV file\n",
    "df.to_csv('weather_data.csv', index=False)\n",
    "\n",
    "print('Dataset saved successfully as weather_data.csv')\n"
   ]
  },
  {
   "cell_type": "code",
   "execution_count": 8,
   "id": "055c4d75",
   "metadata": {},
   "outputs": [
    {
     "data": {
      "text/plain": [
       "{'coord': {'lon': -0.1257, 'lat': 51.5085},\n",
       " 'weather': [{'id': 803,\n",
       "   'main': 'Clouds',\n",
       "   'description': 'broken clouds',\n",
       "   'icon': '04d'}],\n",
       " 'base': 'stations',\n",
       " 'main': {'temp': 287.35,\n",
       "  'feels_like': 286.97,\n",
       "  'temp_min': 286.4,\n",
       "  'temp_max': 288.21,\n",
       "  'pressure': 1016,\n",
       "  'humidity': 82,\n",
       "  'sea_level': 1016,\n",
       "  'grnd_level': 1011},\n",
       " 'visibility': 10000,\n",
       " 'wind': {'speed': 4.63, 'deg': 40},\n",
       " 'clouds': {'all': 75},\n",
       " 'dt': 1727887518,\n",
       " 'sys': {'type': 2,\n",
       "  'id': 2075535,\n",
       "  'country': 'GB',\n",
       "  'sunrise': 1727848989,\n",
       "  'sunset': 1727890569},\n",
       " 'timezone': 3600,\n",
       " 'id': 2643743,\n",
       " 'name': 'London',\n",
       " 'cod': 200}"
      ]
     },
     "execution_count": 8,
     "metadata": {},
     "output_type": "execute_result"
    }
   ],
   "source": [
    "data"
   ]
  },
  {
   "cell_type": "code",
   "execution_count": null,
   "id": "56dfbd35",
   "metadata": {},
   "outputs": [],
   "source": []
  }
 ],
 "metadata": {
  "kernelspec": {
   "display_name": "Python 3 (ipykernel)",
   "language": "python",
   "name": "python3"
  },
  "language_info": {
   "codemirror_mode": {
    "name": "ipython",
    "version": 3
   },
   "file_extension": ".py",
   "mimetype": "text/x-python",
   "name": "python",
   "nbconvert_exporter": "python",
   "pygments_lexer": "ipython3",
   "version": "3.10.12"
  }
 },
 "nbformat": 4,
 "nbformat_minor": 5
}
